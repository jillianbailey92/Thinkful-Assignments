{
 "cells": [
  {
   "cell_type": "code",
   "execution_count": 1,
   "metadata": {},
   "outputs": [],
   "source": [
    "import pandas as pd\n",
    "import numpy as np\n",
    "import arxiv\n",
    "import spacy\n",
    "import re\n",
    "import matplotlib.pyplot as plt\n",
    "\n",
    "nlp = spacy.load(\"en_core_web_md\")"
   ]
  },
  {
   "cell_type": "code",
   "execution_count": 2,
   "metadata": {},
   "outputs": [],
   "source": [
    "result = arxiv.query(\"all\",max_results=1000)\n",
    "\n",
    "df = pd.DataFrame(result)"
   ]
  },
  {
   "cell_type": "code",
   "execution_count": 3,
   "metadata": {},
   "outputs": [
    {
     "data": {
      "text/html": [
       "<div>\n",
       "<style scoped>\n",
       "    .dataframe tbody tr th:only-of-type {\n",
       "        vertical-align: middle;\n",
       "    }\n",
       "\n",
       "    .dataframe tbody tr th {\n",
       "        vertical-align: top;\n",
       "    }\n",
       "\n",
       "    .dataframe thead th {\n",
       "        text-align: right;\n",
       "    }\n",
       "</style>\n",
       "<table border=\"1\" class=\"dataframe\">\n",
       "  <thead>\n",
       "    <tr style=\"text-align: right;\">\n",
       "      <th></th>\n",
       "      <th>affiliation</th>\n",
       "      <th>arxiv_comment</th>\n",
       "      <th>arxiv_primary_category</th>\n",
       "      <th>arxiv_url</th>\n",
       "      <th>author</th>\n",
       "      <th>author_detail</th>\n",
       "      <th>authors</th>\n",
       "      <th>doi</th>\n",
       "      <th>guidislink</th>\n",
       "      <th>id</th>\n",
       "      <th>...</th>\n",
       "      <th>pdf_url</th>\n",
       "      <th>published</th>\n",
       "      <th>published_parsed</th>\n",
       "      <th>summary</th>\n",
       "      <th>summary_detail</th>\n",
       "      <th>tags</th>\n",
       "      <th>title</th>\n",
       "      <th>title_detail</th>\n",
       "      <th>updated</th>\n",
       "      <th>updated_parsed</th>\n",
       "    </tr>\n",
       "  </thead>\n",
       "  <tbody>\n",
       "    <tr>\n",
       "      <th>0</th>\n",
       "      <td>None</td>\n",
       "      <td>None</td>\n",
       "      <td>{'term': 'math.NA', 'scheme': 'http://arxiv.or...</td>\n",
       "      <td>http://arxiv.org/abs/1210.7708v1</td>\n",
       "      <td>Alexei Shadrin</td>\n",
       "      <td>{'name': 'Alexei Shadrin'}</td>\n",
       "      <td>[Alexei Shadrin]</td>\n",
       "      <td>None</td>\n",
       "      <td>True</td>\n",
       "      <td>http://arxiv.org/abs/1210.7708v1</td>\n",
       "      <td>...</td>\n",
       "      <td>http://arxiv.org/pdf/1210.7708v1</td>\n",
       "      <td>2012-10-29T16:12:41Z</td>\n",
       "      <td>(2012, 10, 29, 16, 12, 41, 0, 303, 0)</td>\n",
       "      <td>The Landau-Kolmogorov problem consists of find...</td>\n",
       "      <td>{'type': 'text/plain', 'language': None, 'base...</td>\n",
       "      <td>[{'term': 'math.NA', 'scheme': 'http://arxiv.o...</td>\n",
       "      <td>Landau--Kolmogorov inequality revisited</td>\n",
       "      <td>{'type': 'text/plain', 'language': None, 'base...</td>\n",
       "      <td>2012-10-29T16:12:41Z</td>\n",
       "      <td>(2012, 10, 29, 16, 12, 41, 0, 303, 0)</td>\n",
       "    </tr>\n",
       "    <tr>\n",
       "      <th>1</th>\n",
       "      <td>None</td>\n",
       "      <td>23 pages, 7 figures</td>\n",
       "      <td>{'term': 'cond-mat.mtrl-sci', 'scheme': 'http:...</td>\n",
       "      <td>http://arxiv.org/abs/1602.00450v1</td>\n",
       "      <td>M. Kawasaki</td>\n",
       "      <td>{'name': 'M. Kawasaki'}</td>\n",
       "      <td>[T. C. Fujita, M. Uchida, Y. Kozuka, W. Sano, ...</td>\n",
       "      <td>10.1103/PhysRevB.93.064419</td>\n",
       "      <td>True</td>\n",
       "      <td>http://arxiv.org/abs/1602.00450v1</td>\n",
       "      <td>...</td>\n",
       "      <td>http://arxiv.org/pdf/1602.00450v1</td>\n",
       "      <td>2016-02-01T09:53:30Z</td>\n",
       "      <td>(2016, 2, 1, 9, 53, 30, 0, 32, 0)</td>\n",
       "      <td>Pyrochlore oxides possessing \"all-in-all-out\" ...</td>\n",
       "      <td>{'type': 'text/plain', 'language': None, 'base...</td>\n",
       "      <td>[{'term': 'cond-mat.mtrl-sci', 'scheme': 'http...</td>\n",
       "      <td>All-in-all-out magnetic domain wall conduction...</td>\n",
       "      <td>{'type': 'text/plain', 'language': None, 'base...</td>\n",
       "      <td>2016-02-01T09:53:30Z</td>\n",
       "      <td>(2016, 2, 1, 9, 53, 30, 0, 32, 0)</td>\n",
       "    </tr>\n",
       "    <tr>\n",
       "      <th>2</th>\n",
       "      <td>None</td>\n",
       "      <td>None</td>\n",
       "      <td>{'term': 'cs.DC', 'scheme': 'http://arxiv.org/...</td>\n",
       "      <td>http://arxiv.org/abs/1612.01842v2</td>\n",
       "      <td>Zaid Hussain</td>\n",
       "      <td>{'name': 'Zaid Hussain'}</td>\n",
       "      <td>[Zaid Hussain]</td>\n",
       "      <td>None</td>\n",
       "      <td>True</td>\n",
       "      <td>http://arxiv.org/abs/1612.01842v2</td>\n",
       "      <td>...</td>\n",
       "      <td>http://arxiv.org/pdf/1612.01842v2</td>\n",
       "      <td>2016-12-06T15:01:47Z</td>\n",
       "      <td>(2016, 12, 6, 15, 1, 47, 1, 341, 0)</td>\n",
       "      <td>Recently, a higher dimensional Eisenstein-Jaco...</td>\n",
       "      <td>{'type': 'text/plain', 'language': None, 'base...</td>\n",
       "      <td>[{'term': 'cs.DC', 'scheme': 'http://arxiv.org...</td>\n",
       "      <td>An Improved One-to-All Broadcasting in Higher ...</td>\n",
       "      <td>{'type': 'text/plain', 'language': None, 'base...</td>\n",
       "      <td>2016-12-07T06:10:53Z</td>\n",
       "      <td>(2016, 12, 7, 6, 10, 53, 2, 342, 0)</td>\n",
       "    </tr>\n",
       "    <tr>\n",
       "      <th>3</th>\n",
       "      <td>None</td>\n",
       "      <td>33 pages, 18 figures</td>\n",
       "      <td>{'term': 'math.CO', 'scheme': 'http://arxiv.or...</td>\n",
       "      <td>http://arxiv.org/abs/0705.3599v1</td>\n",
       "      <td>Chris Smyth</td>\n",
       "      <td>{'name': 'Chris Smyth'}</td>\n",
       "      <td>[James McKee, Chris Smyth]</td>\n",
       "      <td>None</td>\n",
       "      <td>True</td>\n",
       "      <td>http://arxiv.org/abs/0705.3599v1</td>\n",
       "      <td>...</td>\n",
       "      <td>http://arxiv.org/pdf/0705.3599v1</td>\n",
       "      <td>2007-05-24T15:45:39Z</td>\n",
       "      <td>(2007, 5, 24, 15, 45, 39, 3, 144, 0)</td>\n",
       "      <td>We completely describe all integer symmetric m...</td>\n",
       "      <td>{'type': 'text/plain', 'language': None, 'base...</td>\n",
       "      <td>[{'term': 'math.CO', 'scheme': 'http://arxiv.o...</td>\n",
       "      <td>Integer symmetric matrices having all their ei...</td>\n",
       "      <td>{'type': 'text/plain', 'language': None, 'base...</td>\n",
       "      <td>2007-05-24T15:45:39Z</td>\n",
       "      <td>(2007, 5, 24, 15, 45, 39, 3, 144, 0)</td>\n",
       "    </tr>\n",
       "    <tr>\n",
       "      <th>4</th>\n",
       "      <td>None</td>\n",
       "      <td>10 pages, Journal \"Algebra and Discrete Mathem...</td>\n",
       "      <td>{'term': 'math.RA', 'scheme': 'http://arxiv.or...</td>\n",
       "      <td>http://arxiv.org/abs/0811.3325v1</td>\n",
       "      <td>Slavcho Shtrakov</td>\n",
       "      <td>{'name': 'Slavcho Shtrakov'}</td>\n",
       "      <td>[Jorg Koppitz, Slavcho Shtrakov]</td>\n",
       "      <td>None</td>\n",
       "      <td>True</td>\n",
       "      <td>http://arxiv.org/abs/0811.3325v1</td>\n",
       "      <td>...</td>\n",
       "      <td>http://arxiv.org/pdf/0811.3325v1</td>\n",
       "      <td>2008-11-20T12:28:46Z</td>\n",
       "      <td>(2008, 11, 20, 12, 28, 46, 3, 325, 0)</td>\n",
       "      <td>The extensions of hypersubstitutions are mappi...</td>\n",
       "      <td>{'type': 'text/plain', 'language': None, 'base...</td>\n",
       "      <td>[{'term': 'math.RA', 'scheme': 'http://arxiv.o...</td>\n",
       "      <td>On mappings of terms determined by hypersubsti...</td>\n",
       "      <td>{'type': 'text/plain', 'language': None, 'base...</td>\n",
       "      <td>2008-11-20T12:28:46Z</td>\n",
       "      <td>(2008, 11, 20, 12, 28, 46, 3, 325, 0)</td>\n",
       "    </tr>\n",
       "  </tbody>\n",
       "</table>\n",
       "<p>5 rows × 22 columns</p>\n",
       "</div>"
      ],
      "text/plain": [
       "  affiliation                                      arxiv_comment  \\\n",
       "0        None                                               None   \n",
       "1        None                                23 pages, 7 figures   \n",
       "2        None                                               None   \n",
       "3        None                               33 pages, 18 figures   \n",
       "4        None  10 pages, Journal \"Algebra and Discrete Mathem...   \n",
       "\n",
       "                              arxiv_primary_category  \\\n",
       "0  {'term': 'math.NA', 'scheme': 'http://arxiv.or...   \n",
       "1  {'term': 'cond-mat.mtrl-sci', 'scheme': 'http:...   \n",
       "2  {'term': 'cs.DC', 'scheme': 'http://arxiv.org/...   \n",
       "3  {'term': 'math.CO', 'scheme': 'http://arxiv.or...   \n",
       "4  {'term': 'math.RA', 'scheme': 'http://arxiv.or...   \n",
       "\n",
       "                           arxiv_url            author  \\\n",
       "0   http://arxiv.org/abs/1210.7708v1    Alexei Shadrin   \n",
       "1  http://arxiv.org/abs/1602.00450v1       M. Kawasaki   \n",
       "2  http://arxiv.org/abs/1612.01842v2      Zaid Hussain   \n",
       "3   http://arxiv.org/abs/0705.3599v1       Chris Smyth   \n",
       "4   http://arxiv.org/abs/0811.3325v1  Slavcho Shtrakov   \n",
       "\n",
       "                  author_detail  \\\n",
       "0    {'name': 'Alexei Shadrin'}   \n",
       "1       {'name': 'M. Kawasaki'}   \n",
       "2      {'name': 'Zaid Hussain'}   \n",
       "3       {'name': 'Chris Smyth'}   \n",
       "4  {'name': 'Slavcho Shtrakov'}   \n",
       "\n",
       "                                             authors  \\\n",
       "0                                   [Alexei Shadrin]   \n",
       "1  [T. C. Fujita, M. Uchida, Y. Kozuka, W. Sano, ...   \n",
       "2                                     [Zaid Hussain]   \n",
       "3                         [James McKee, Chris Smyth]   \n",
       "4                   [Jorg Koppitz, Slavcho Shtrakov]   \n",
       "\n",
       "                          doi  guidislink                                 id  \\\n",
       "0                        None        True   http://arxiv.org/abs/1210.7708v1   \n",
       "1  10.1103/PhysRevB.93.064419        True  http://arxiv.org/abs/1602.00450v1   \n",
       "2                        None        True  http://arxiv.org/abs/1612.01842v2   \n",
       "3                        None        True   http://arxiv.org/abs/0705.3599v1   \n",
       "4                        None        True   http://arxiv.org/abs/0811.3325v1   \n",
       "\n",
       "                   ...                                              pdf_url  \\\n",
       "0                  ...                     http://arxiv.org/pdf/1210.7708v1   \n",
       "1                  ...                    http://arxiv.org/pdf/1602.00450v1   \n",
       "2                  ...                    http://arxiv.org/pdf/1612.01842v2   \n",
       "3                  ...                     http://arxiv.org/pdf/0705.3599v1   \n",
       "4                  ...                     http://arxiv.org/pdf/0811.3325v1   \n",
       "\n",
       "              published                       published_parsed  \\\n",
       "0  2012-10-29T16:12:41Z  (2012, 10, 29, 16, 12, 41, 0, 303, 0)   \n",
       "1  2016-02-01T09:53:30Z      (2016, 2, 1, 9, 53, 30, 0, 32, 0)   \n",
       "2  2016-12-06T15:01:47Z    (2016, 12, 6, 15, 1, 47, 1, 341, 0)   \n",
       "3  2007-05-24T15:45:39Z   (2007, 5, 24, 15, 45, 39, 3, 144, 0)   \n",
       "4  2008-11-20T12:28:46Z  (2008, 11, 20, 12, 28, 46, 3, 325, 0)   \n",
       "\n",
       "                                             summary  \\\n",
       "0  The Landau-Kolmogorov problem consists of find...   \n",
       "1  Pyrochlore oxides possessing \"all-in-all-out\" ...   \n",
       "2  Recently, a higher dimensional Eisenstein-Jaco...   \n",
       "3  We completely describe all integer symmetric m...   \n",
       "4  The extensions of hypersubstitutions are mappi...   \n",
       "\n",
       "                                      summary_detail  \\\n",
       "0  {'type': 'text/plain', 'language': None, 'base...   \n",
       "1  {'type': 'text/plain', 'language': None, 'base...   \n",
       "2  {'type': 'text/plain', 'language': None, 'base...   \n",
       "3  {'type': 'text/plain', 'language': None, 'base...   \n",
       "4  {'type': 'text/plain', 'language': None, 'base...   \n",
       "\n",
       "                                                tags  \\\n",
       "0  [{'term': 'math.NA', 'scheme': 'http://arxiv.o...   \n",
       "1  [{'term': 'cond-mat.mtrl-sci', 'scheme': 'http...   \n",
       "2  [{'term': 'cs.DC', 'scheme': 'http://arxiv.org...   \n",
       "3  [{'term': 'math.CO', 'scheme': 'http://arxiv.o...   \n",
       "4  [{'term': 'math.RA', 'scheme': 'http://arxiv.o...   \n",
       "\n",
       "                                               title  \\\n",
       "0            Landau--Kolmogorov inequality revisited   \n",
       "1  All-in-all-out magnetic domain wall conduction...   \n",
       "2  An Improved One-to-All Broadcasting in Higher ...   \n",
       "3  Integer symmetric matrices having all their ei...   \n",
       "4  On mappings of terms determined by hypersubsti...   \n",
       "\n",
       "                                        title_detail               updated  \\\n",
       "0  {'type': 'text/plain', 'language': None, 'base...  2012-10-29T16:12:41Z   \n",
       "1  {'type': 'text/plain', 'language': None, 'base...  2016-02-01T09:53:30Z   \n",
       "2  {'type': 'text/plain', 'language': None, 'base...  2016-12-07T06:10:53Z   \n",
       "3  {'type': 'text/plain', 'language': None, 'base...  2007-05-24T15:45:39Z   \n",
       "4  {'type': 'text/plain', 'language': None, 'base...  2008-11-20T12:28:46Z   \n",
       "\n",
       "                          updated_parsed  \n",
       "0  (2012, 10, 29, 16, 12, 41, 0, 303, 0)  \n",
       "1      (2016, 2, 1, 9, 53, 30, 0, 32, 0)  \n",
       "2    (2016, 12, 7, 6, 10, 53, 2, 342, 0)  \n",
       "3   (2007, 5, 24, 15, 45, 39, 3, 144, 0)  \n",
       "4  (2008, 11, 20, 12, 28, 46, 3, 325, 0)  \n",
       "\n",
       "[5 rows x 22 columns]"
      ]
     },
     "execution_count": 3,
     "metadata": {},
     "output_type": "execute_result"
    }
   ],
   "source": [
    "df.head()"
   ]
  },
  {
   "cell_type": "code",
   "execution_count": 4,
   "metadata": {},
   "outputs": [
    {
     "data": {
      "text/plain": [
       "Index(['affiliation', 'arxiv_comment', 'arxiv_primary_category', 'arxiv_url',\n",
       "       'author', 'author_detail', 'authors', 'doi', 'guidislink', 'id',\n",
       "       'journal_reference', 'links', 'pdf_url', 'published',\n",
       "       'published_parsed', 'summary', 'summary_detail', 'tags', 'title',\n",
       "       'title_detail', 'updated', 'updated_parsed'],\n",
       "      dtype='object')"
      ]
     },
     "execution_count": 4,
     "metadata": {},
     "output_type": "execute_result"
    }
   ],
   "source": [
    "df.columns"
   ]
  },
  {
   "cell_type": "code",
   "execution_count": 5,
   "metadata": {},
   "outputs": [],
   "source": [
    "df['text'] = df['summary'] + \" \" + df['title']\n",
    "df = df.drop(columns=['affiliation','arxiv_comment','arxiv_url',\n",
    "                     'author_detail','doi','guidislink','id',\n",
    "                     'pdf_url','links','published','summary_detail',\n",
    "                     'title_detail','updated','updated_parsed',\n",
    "                     'journal_reference','tags','author','authors',\n",
    "                     'published_parsed','summary','title'])"
   ]
  },
  {
   "cell_type": "code",
   "execution_count": 6,
   "metadata": {},
   "outputs": [
    {
     "data": {
      "text/html": [
       "<div>\n",
       "<style scoped>\n",
       "    .dataframe tbody tr th:only-of-type {\n",
       "        vertical-align: middle;\n",
       "    }\n",
       "\n",
       "    .dataframe tbody tr th {\n",
       "        vertical-align: top;\n",
       "    }\n",
       "\n",
       "    .dataframe thead th {\n",
       "        text-align: right;\n",
       "    }\n",
       "</style>\n",
       "<table border=\"1\" class=\"dataframe\">\n",
       "  <thead>\n",
       "    <tr style=\"text-align: right;\">\n",
       "      <th></th>\n",
       "      <th>arxiv_primary_category</th>\n",
       "      <th>text</th>\n",
       "    </tr>\n",
       "  </thead>\n",
       "  <tbody>\n",
       "    <tr>\n",
       "      <th>0</th>\n",
       "      <td>{'term': 'math.NA', 'scheme': 'http://arxiv.or...</td>\n",
       "      <td>The Landau-Kolmogorov problem consists of find...</td>\n",
       "    </tr>\n",
       "    <tr>\n",
       "      <th>1</th>\n",
       "      <td>{'term': 'cond-mat.mtrl-sci', 'scheme': 'http:...</td>\n",
       "      <td>Pyrochlore oxides possessing \"all-in-all-out\" ...</td>\n",
       "    </tr>\n",
       "    <tr>\n",
       "      <th>2</th>\n",
       "      <td>{'term': 'cs.DC', 'scheme': 'http://arxiv.org/...</td>\n",
       "      <td>Recently, a higher dimensional Eisenstein-Jaco...</td>\n",
       "    </tr>\n",
       "    <tr>\n",
       "      <th>3</th>\n",
       "      <td>{'term': 'math.CO', 'scheme': 'http://arxiv.or...</td>\n",
       "      <td>We completely describe all integer symmetric m...</td>\n",
       "    </tr>\n",
       "    <tr>\n",
       "      <th>4</th>\n",
       "      <td>{'term': 'math.RA', 'scheme': 'http://arxiv.or...</td>\n",
       "      <td>The extensions of hypersubstitutions are mappi...</td>\n",
       "    </tr>\n",
       "  </tbody>\n",
       "</table>\n",
       "</div>"
      ],
      "text/plain": [
       "                              arxiv_primary_category  \\\n",
       "0  {'term': 'math.NA', 'scheme': 'http://arxiv.or...   \n",
       "1  {'term': 'cond-mat.mtrl-sci', 'scheme': 'http:...   \n",
       "2  {'term': 'cs.DC', 'scheme': 'http://arxiv.org/...   \n",
       "3  {'term': 'math.CO', 'scheme': 'http://arxiv.or...   \n",
       "4  {'term': 'math.RA', 'scheme': 'http://arxiv.or...   \n",
       "\n",
       "                                                text  \n",
       "0  The Landau-Kolmogorov problem consists of find...  \n",
       "1  Pyrochlore oxides possessing \"all-in-all-out\" ...  \n",
       "2  Recently, a higher dimensional Eisenstein-Jaco...  \n",
       "3  We completely describe all integer symmetric m...  \n",
       "4  The extensions of hypersubstitutions are mappi...  "
      ]
     },
     "execution_count": 6,
     "metadata": {},
     "output_type": "execute_result"
    }
   ],
   "source": [
    "df.head()"
   ]
  },
  {
   "cell_type": "code",
   "execution_count": 7,
   "metadata": {},
   "outputs": [],
   "source": [
    "tokens = []\n",
    "lemma = []\n",
    "pos = []\n",
    "\n",
    "for doc in nlp.pipe(df['text'].astype('unicode').values, batch_size=50,\n",
    "                        n_threads=3):\n",
    "    if doc.is_parsed:\n",
    "        tokens.append([n.text for n in doc])\n",
    "        lemma.append([n.lemma_ for n in doc])\n",
    "        pos.append([n.pos_ for n in doc])\n",
    "    else:\n",
    "        tokens.append(None)\n",
    "        lemma.append(None)\n",
    "        pos.append(None)\n",
    "\n",
    "df['tokens'] = tokens\n",
    "df['lemma'] = lemma\n",
    "df['pos'] = pos"
   ]
  },
  {
   "cell_type": "code",
   "execution_count": 8,
   "metadata": {},
   "outputs": [],
   "source": [
    "df['text_parsed'] = df['text'].apply(lambda x: nlp(x).vector)"
   ]
  },
  {
   "cell_type": "code",
   "execution_count": 9,
   "metadata": {},
   "outputs": [
    {
     "data": {
      "text/plain": [
       "array([-0.10698935,  0.17042151, -0.07473025, -0.06716613,  0.10614207,\n",
       "        0.02206932, -0.02164571, -0.08012603,  0.06981217,  1.4196067 ,\n",
       "       -0.1198304 ,  0.15476432,  0.05591436, -0.03641077, -0.08494858,\n",
       "       -0.04361354, -0.10369464,  1.1451061 , -0.17271893, -0.11683376,\n",
       "       -0.08977029,  0.07938512, -0.10332797,  0.04903564,  0.04818072,\n",
       "       -0.04811901, -0.03146712, -0.0076994 ,  0.09269732,  0.05608609,\n",
       "       -0.01189843,  0.07795323,  0.05910968,  0.04488805,  0.1220812 ,\n",
       "       -0.07010029, -0.01259106, -0.00358807,  0.02935204,  0.06479456,\n",
       "        0.02406941,  0.07225597,  0.10178884, -0.07257931, -0.03816656,\n",
       "        0.02377509, -0.07870699,  0.08455178,  0.03126218,  0.01311468,\n",
       "       -0.04954324,  0.05951928, -0.03815304,  0.08417661,  0.03089996,\n",
       "       -0.01446717, -0.01752842,  0.01283254, -0.00464072, -0.02893031,\n",
       "       -0.02480836, -0.03641409, -0.11154779,  0.09843634,  0.06986786,\n",
       "       -0.06187356,  0.06513597,  0.08443032, -0.03595026, -0.0047851 ,\n",
       "        0.10259357,  0.13075136,  0.14033245,  0.00974614,  0.12272199,\n",
       "        0.05533445,  0.02373476, -0.02879505,  0.0232971 ,  0.14146605,\n",
       "       -0.08385964,  0.05495088, -0.04070945,  0.00330272,  0.06318875,\n",
       "       -0.1390156 ,  0.00853572, -0.09413319,  0.25302982,  0.01270596,\n",
       "       -0.08646806,  0.06586827,  0.02394131, -0.04456358, -0.02386236,\n",
       "       -0.04561787, -0.09855454,  0.00906842,  0.05252176,  0.00416093,\n",
       "        0.02292196,  0.01739446, -0.12565593,  0.02790843,  0.03990729,\n",
       "       -0.21993566,  0.08789281,  0.05654568, -0.01410212,  0.06457645,\n",
       "        0.04208034, -0.18082008,  0.10997014,  0.01484668, -0.09211523,\n",
       "        0.03861452,  0.00608565, -0.02881418,  0.03029243, -0.08872237,\n",
       "        0.04330047, -0.04663257, -0.04388228, -0.01219385, -0.01044242,\n",
       "        0.03446048, -0.0438868 , -0.05073238, -0.00412496, -0.09783348,\n",
       "        0.07289901,  0.07190004, -0.0035777 , -0.00975117,  0.03527481,\n",
       "        0.12200367, -0.02118524, -0.00320503, -0.01935218,  0.00716636,\n",
       "       -0.5835831 ,  0.14203437,  0.12480831,  0.00484871,  0.01781204,\n",
       "       -0.04865719,  0.00900206, -0.03413383, -0.00256065, -0.04657024,\n",
       "        0.04160362, -0.02714299,  0.13687469, -0.02719787, -0.00800632,\n",
       "       -0.0477283 , -0.08194807,  0.07052314, -0.01293594, -0.06011043,\n",
       "        0.02871438,  0.09336135, -0.08615705, -0.1474878 , -0.16092327,\n",
       "       -0.13264523,  0.10124175, -0.04677062,  0.14567019, -0.00829095,\n",
       "        0.04636737,  0.02025498, -0.00253002, -0.00956417, -0.08500914,\n",
       "       -0.00566827,  0.052682  , -0.02010294,  0.06492383, -0.14743216,\n",
       "        0.07038324, -0.03934644, -0.07082287, -0.07012609, -0.23045963,\n",
       "       -0.00432753, -0.05919922, -0.03380901,  0.01764801,  0.1002893 ,\n",
       "       -0.11303346,  0.0245579 , -0.16399656,  0.06748389,  0.07060862,\n",
       "       -0.0364274 , -0.05959766, -0.11594178, -0.07175568,  0.16033165,\n",
       "        0.01697251, -0.10707293, -0.08843464,  0.03402031,  0.04754252,\n",
       "       -0.08676994,  0.01061128,  0.02505572,  0.06478351,  0.07791911,\n",
       "       -0.07702215, -0.04812904, -0.02525709, -0.20226896,  0.10585742,\n",
       "        0.10182257, -0.051611  , -0.00963259, -0.22962795,  0.11802804,\n",
       "       -0.03393115,  0.05554489, -0.07828027, -0.04477426,  0.0092084 ,\n",
       "        0.01336973, -0.02559454,  0.09111058,  0.04582429,  0.0662263 ,\n",
       "       -0.06046742,  0.01521999,  0.08772729,  0.02312322, -0.07347569,\n",
       "       -0.01236759, -0.08099646, -0.06265865, -0.05164171,  0.05651831,\n",
       "        0.01076765,  0.02851492,  0.01780813,  0.13799153,  0.13355437,\n",
       "       -0.11349267, -0.09025418, -0.16451308, -0.07661839,  0.02146728,\n",
       "        0.05029388,  0.06435646,  0.06398338, -0.03076836, -0.00890073,\n",
       "        0.3598497 ,  0.12733941, -0.07372155, -0.05887363,  0.07866847,\n",
       "        0.03664348,  0.18330488, -0.03759691,  0.13854103,  0.03753096,\n",
       "       -0.08619641,  0.04715952, -0.02438977,  0.34186378, -0.1333777 ,\n",
       "        0.0573085 , -0.03997926, -0.08250891, -0.09202405, -0.06286462,\n",
       "       -0.05655124, -0.04816154,  0.06756293, -0.10407092,  0.12929995,\n",
       "        0.1222752 ,  0.11385865,  0.04167253, -0.03404244,  0.01574483,\n",
       "       -0.08371961,  0.05717339, -0.01243925,  0.07366615,  0.04074942,\n",
       "       -0.11898327,  0.00428999,  0.03557121, -0.07482514, -0.11846924,\n",
       "       -0.01340305, -0.07263404, -0.09160763, -0.00241858, -0.00308014],\n",
       "      dtype=float32)"
      ]
     },
     "execution_count": 9,
     "metadata": {},
     "output_type": "execute_result"
    }
   ],
   "source": [
    "df['text_parsed'].iloc[0]"
   ]
  },
  {
   "cell_type": "code",
   "execution_count": 10,
   "metadata": {},
   "outputs": [
    {
     "data": {
      "text/plain": [
       "arxiv_primary_category    0\n",
       "text                      0\n",
       "tokens                    0\n",
       "lemma                     0\n",
       "pos                       0\n",
       "text_parsed               0\n",
       "dtype: int64"
      ]
     },
     "execution_count": 10,
     "metadata": {},
     "output_type": "execute_result"
    }
   ],
   "source": [
    "df.isnull().sum()"
   ]
  },
  {
   "cell_type": "code",
   "execution_count": 11,
   "metadata": {},
   "outputs": [
    {
     "data": {
      "text/plain": [
       "arxiv_primary_category    object\n",
       "text                      object\n",
       "tokens                    object\n",
       "lemma                     object\n",
       "pos                       object\n",
       "text_parsed               object\n",
       "dtype: object"
      ]
     },
     "execution_count": 11,
     "metadata": {},
     "output_type": "execute_result"
    }
   ],
   "source": [
    "df.dtypes"
   ]
  },
  {
   "cell_type": "code",
   "execution_count": 12,
   "metadata": {},
   "outputs": [],
   "source": [
    "df['arxiv_primary_category'] = df['arxiv_primary_category'].astype(str).str.replace('{\\'term\\': \\'','').str.replace(r'\\.(.*)','').str.replace(r'\\',(.*)','')"
   ]
  },
  {
   "cell_type": "code",
   "execution_count": 13,
   "metadata": {},
   "outputs": [
    {
     "data": {
      "text/plain": [
       "array(['math', 'cond-mat', 'cs', 'astro-ph', 'hep-th', 'physics',\n",
       "       'quant-ph', 'dg-ga', 'hep-ph', 'hep-lat', 'math-ph', 'stat',\n",
       "       'q-bio', 'q-alg', 'gr-qc', 'alg-geom', 'q-fin', 'hep-ex', 'nlin',\n",
       "       'nucl-th', 'econ'], dtype=object)"
      ]
     },
     "execution_count": 13,
     "metadata": {},
     "output_type": "execute_result"
    }
   ],
   "source": [
    "df['arxiv_primary_category'].unique()"
   ]
  },
  {
   "cell_type": "code",
   "execution_count": 14,
   "metadata": {},
   "outputs": [
    {
     "data": {
      "image/png": "[encoded data removed]",
      "text/plain": [
       "<Figure size 1440x360 with 1 Axes>"
      ]
     },
     "metadata": {
      "needs_background": "light"
     },
     "output_type": "display_data"
    }
   ],
   "source": [
    "plt.figure(figsize=(20,5))\n",
    "ax = df['arxiv_primary_category'].value_counts().plot(kind='bar',rot=90)"
   ]
  },
  {
   "cell_type": "code",
   "execution_count": 15,
   "metadata": {},
   "outputs": [],
   "source": [
    "from sklearn.model_selection import train_test_split\n",
    "from sklearn.model_selection import cross_val_score"
   ]
  },
  {
   "cell_type": "code",
   "execution_count": 16,
   "metadata": {},
   "outputs": [],
   "source": [
    "X = df['text_parsed']\n",
    "y = df.arxiv_primary_category"
   ]
  },
  {
   "cell_type": "code",
   "execution_count": 17,
   "metadata": {},
   "outputs": [],
   "source": [
    "X_arrays = np.vstack(X.values)"
   ]
  },
  {
   "cell_type": "code",
   "execution_count": 18,
   "metadata": {},
   "outputs": [
    {
     "data": {
      "text/plain": [
       "(1000, 300)"
      ]
     },
     "execution_count": 18,
     "metadata": {},
     "output_type": "execute_result"
    }
   ],
   "source": [
    "X_arrays.shape"
   ]
  },
  {
   "cell_type": "code",
   "execution_count": 19,
   "metadata": {},
   "outputs": [
    {
     "data": {
      "text/plain": [
       "array([[-0.10698935,  0.17042151, -0.07473025, ..., -0.09160763,\n",
       "        -0.00241858, -0.00308014],\n",
       "       [-0.02771933,  0.16485323, -0.11763255, ..., -0.05956215,\n",
       "         0.0720447 ,  0.09282862],\n",
       "       [-0.0565428 ,  0.20918235, -0.11143299, ..., -0.10262482,\n",
       "         0.03977027,  0.12460569],\n",
       "       ...,\n",
       "       [-0.0363357 ,  0.12468939, -0.12596431, ..., -0.01007143,\n",
       "         0.04026951,  0.07172821],\n",
       "       [-0.08171093,  0.14936097, -0.12105084, ..., -0.07019212,\n",
       "         0.03891341, -0.00416047],\n",
       "       [-0.03958456,  0.1404825 , -0.17580843, ..., -0.12400756,\n",
       "         0.01791524,  0.10790659]], dtype=float32)"
      ]
     },
     "execution_count": 19,
     "metadata": {},
     "output_type": "execute_result"
    }
   ],
   "source": [
    "X_arrays"
   ]
  },
  {
   "cell_type": "code",
   "execution_count": 20,
   "metadata": {},
   "outputs": [
    {
     "data": {
      "text/plain": [
       "(1000,)"
      ]
     },
     "execution_count": 20,
     "metadata": {},
     "output_type": "execute_result"
    }
   ],
   "source": [
    "X.shape"
   ]
  },
  {
   "cell_type": "code",
   "execution_count": 21,
   "metadata": {},
   "outputs": [],
   "source": [
    "X_train, X_test, y_train, y_test = train_test_split(X_arrays, y, test_size=0.33, random_state=111)"
   ]
  },
  {
   "cell_type": "code",
   "execution_count": 22,
   "metadata": {},
   "outputs": [
    {
     "name": "stdout",
     "output_type": "stream",
     "text": [
      "[0.07833233 0.17549376 0.08602504 0.0508531  0.03758397 0.03553861\n",
      " 0.02812348 0.02541145 0.02381307 0.02294089 0.01766381 0.01437329\n",
      " 0.01396194 0.01290417 0.01230647 0.01075666 0.01068212 0.00994415\n",
      " 0.00991805 0.00851852 0.00842103 0.007643   0.00758041 0.00706582\n",
      " 0.00701576 0.00663182 0.006391   0.00610829 0.00594216 0.00569738\n",
      " 0.00558126 0.00532045 0.00491899 0.00489725 0.00462219 0.00452182\n",
      " 0.00434851 0.0042625  0.00420266 0.0040159  0.00399171 0.00373575\n",
      " 0.00369984 0.00365746 0.00350152 0.00341731 0.00329524 0.00320403\n",
      " 0.00316283 0.00314021 0.00301677 0.00294953 0.00283977 0.00280993\n",
      " 0.00276118 0.00267051 0.00258249 0.00251537 0.00246819 0.00245053\n",
      " 0.00238873 0.00235474 0.00223    0.0021993  0.00216652 0.00213323\n",
      " 0.00209469 0.00206333 0.00203714 0.00195106 0.00192412 0.00189895\n",
      " 0.00187823 0.0018196  0.00179965 0.00177991 0.00176533 0.00170056\n",
      " 0.00163562 0.00162605 0.00158729 0.00157011 0.00152224 0.00150824\n",
      " 0.00149476 0.00147359 0.00142902 0.0013893  0.00137788 0.00134668\n",
      " 0.00134352 0.00132324 0.00129894 0.00126792 0.00122818 0.00122021\n",
      " 0.00120002 0.00117381 0.00115927 0.0011286 ]\n",
      "0.92869294\n"
     ]
    }
   ],
   "source": [
    "from sklearn.decomposition import TruncatedSVD\n",
    "\n",
    "svd = TruncatedSVD(100)\n",
    "svd.fit(X_train)\n",
    "\n",
    "print(svd.explained_variance_ratio_)  \n",
    "print(svd.explained_variance_ratio_.sum())"
   ]
  },
  {
   "cell_type": "code",
   "execution_count": 23,
   "metadata": {},
   "outputs": [
    {
     "name": "stderr",
     "output_type": "stream",
     "text": [
      "C:\\Users\\Jillian\\Anaconda3\\lib\\site-packages\\sklearn\\svm\\base.py:196: FutureWarning: The default value of gamma will change from 'auto' to 'scale' in version 0.22 to account better for unscaled features. Set gamma explicitly to 'auto' or 'scale' to avoid this warning.\n",
      "  \"avoid this warning.\", FutureWarning)\n"
     ]
    },
    {
     "data": {
      "text/plain": [
       "SVC(C=1.0, cache_size=200, class_weight=None, coef0=0.0,\n",
       "  decision_function_shape='ovr', degree=3, gamma='auto_deprecated',\n",
       "  kernel='rbf', max_iter=-1, probability=False, random_state=None,\n",
       "  shrinking=True, tol=0.001, verbose=False)"
      ]
     },
     "execution_count": 23,
     "metadata": {},
     "output_type": "execute_result"
    }
   ],
   "source": [
    "from sklearn.svm import SVC\n",
    "\n",
    "svc = SVC()\n",
    "svc.fit(X_train,y_train)"
   ]
  },
  {
   "cell_type": "code",
   "execution_count": 24,
   "metadata": {},
   "outputs": [
    {
     "name": "stdout",
     "output_type": "stream",
     "text": [
      "Training set score: 0.5611940298507463\n",
      "\n",
      "Test set score: 0.6303030303030303\n"
     ]
    }
   ],
   "source": [
    "print('Training set score:', svc.score(X_train, y_train))\n",
    "print('\\nTest set score:', svc.score(X_test, y_test))"
   ]
  },
  {
   "cell_type": "code",
   "execution_count": 25,
   "metadata": {},
   "outputs": [
    {
     "data": {
      "text/plain": [
       "RandomForestClassifier(bootstrap=True, class_weight=None, criterion='gini',\n",
       "            max_depth=5, max_features='auto', max_leaf_nodes=None,\n",
       "            min_impurity_decrease=0.0, min_impurity_split=None,\n",
       "            min_samples_leaf=1, min_samples_split=2,\n",
       "            min_weight_fraction_leaf=0.0, n_estimators=100, n_jobs=None,\n",
       "            oob_score=False, random_state=None, verbose=0,\n",
       "            warm_start=False)"
      ]
     },
     "execution_count": 25,
     "metadata": {},
     "output_type": "execute_result"
    }
   ],
   "source": [
    "from sklearn.ensemble import RandomForestClassifier\n",
    "\n",
    "rfc = RandomForestClassifier(n_estimators=100,max_depth=5)\n",
    "rfc.fit(X_train,y_train)"
   ]
  },
  {
   "cell_type": "code",
   "execution_count": 26,
   "metadata": {},
   "outputs": [
    {
     "name": "stdout",
     "output_type": "stream",
     "text": [
      "Training set score: 0.744776119402985\n",
      "\n",
      "Test set score: 0.6636363636363637\n"
     ]
    }
   ],
   "source": [
    "print('Training set score:', rfc.score(X_train, y_train))\n",
    "print('\\nTest set score:', rfc.score(X_test, y_test))"
   ]
  },
  {
   "cell_type": "code",
   "execution_count": 27,
   "metadata": {},
   "outputs": [
    {
     "name": "stderr",
     "output_type": "stream",
     "text": [
      "C:\\Users\\Jillian\\Anaconda3\\lib\\site-packages\\sklearn\\linear_model\\logistic.py:433: FutureWarning: Default solver will be changed to 'lbfgs' in 0.22. Specify a solver to silence this warning.\n",
      "  FutureWarning)\n",
      "C:\\Users\\Jillian\\Anaconda3\\lib\\site-packages\\sklearn\\linear_model\\logistic.py:460: FutureWarning: Default multi_class will be changed to 'auto' in 0.22. Specify the multi_class option to silence this warning.\n",
      "  \"this warning.\", FutureWarning)\n"
     ]
    },
    {
     "data": {
      "text/plain": [
       "LogisticRegression(C=1.0, class_weight=None, dual=False, fit_intercept=True,\n",
       "          intercept_scaling=1, max_iter=100, multi_class='warn',\n",
       "          n_jobs=None, penalty='l2', random_state=None, solver='warn',\n",
       "          tol=0.0001, verbose=0, warm_start=False)"
      ]
     },
     "execution_count": 27,
     "metadata": {},
     "output_type": "execute_result"
    }
   ],
   "source": [
    "from sklearn.linear_model import LogisticRegression\n",
    "\n",
    "lr = LogisticRegression()\n",
    "lr.fit(X_train,y_train)"
   ]
  },
  {
   "cell_type": "code",
   "execution_count": 28,
   "metadata": {},
   "outputs": [
    {
     "name": "stdout",
     "output_type": "stream",
     "text": [
      "Training set score: 0.6895522388059702\n",
      "\n",
      "Test set score: 0.7090909090909091\n"
     ]
    }
   ],
   "source": [
    "print('Training set score:', lr.score(X_train, y_train))\n",
    "print('\\nTest set score:', lr.score(X_test, y_test))"
   ]
  },
  {
   "cell_type": "code",
   "execution_count": 29,
   "metadata": {},
   "outputs": [
    {
     "data": {
      "text/plain": [
       "GradientBoostingClassifier(criterion='friedman_mse', init=None,\n",
       "              learning_rate=0.1, loss='deviance', max_depth=3,\n",
       "              max_features=None, max_leaf_nodes=None,\n",
       "              min_impurity_decrease=0.0, min_impurity_split=None,\n",
       "              min_samples_leaf=1, min_samples_split=2,\n",
       "              min_weight_fraction_leaf=0.0, n_estimators=100,\n",
       "              n_iter_no_change=None, presort='auto', random_state=None,\n",
       "              subsample=1.0, tol=0.0001, validation_fraction=0.1,\n",
       "              verbose=0, warm_start=False)"
      ]
     },
     "execution_count": 29,
     "metadata": {},
     "output_type": "execute_result"
    }
   ],
   "source": [
    "from sklearn.ensemble import GradientBoostingClassifier\n",
    "\n",
    "gbc = GradientBoostingClassifier()\n",
    "gbc.fit(X_train,y_train)"
   ]
  },
  {
   "cell_type": "code",
   "execution_count": 30,
   "metadata": {},
   "outputs": [
    {
     "name": "stdout",
     "output_type": "stream",
     "text": [
      "Training set score: 1.0\n",
      "\n",
      "Test set score: 0.703030303030303\n"
     ]
    }
   ],
   "source": [
    "print('Training set score:', gbc.score(X_train, y_train))\n",
    "print('\\nTest set score:', gbc.score(X_test, y_test))"
   ]
  },
  {
   "cell_type": "code",
   "execution_count": null,
   "metadata": {},
   "outputs": [],
   "source": []
  }
 ],
 "metadata": {
  "kernelspec": {
   "display_name": "Python 3",
   "language": "python",
   "name": "python3"
  },
  "language_info": {
   "codemirror_mode": {
    "name": "ipython",
    "version": 3
   },
   "file_extension": ".py",
   "mimetype": "text/x-python",
   "name": "python",
   "nbconvert_exporter": "python",
   "pygments_lexer": "ipython3",
   "version": "3.7.1"
  }
 },
 "nbformat": 4,
 "nbformat_minor": 2
}
