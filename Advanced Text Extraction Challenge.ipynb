{
 "cells": [
  {
   "cell_type": "markdown",
   "metadata": {},
   "source": [
    "# Advanced Text Extraction Challenge #"
   ]
  },
  {
   "cell_type": "code",
   "execution_count": 39,
   "metadata": {},
   "outputs": [],
   "source": [
    "import pandas as pd\n",
    "import numpy as np\n",
    "import arxiv\n",
    "import spacy\n",
    "import matplotlib.pyplot as plt\n",
    "import seaborn as sns\n",
    "%matplotlib inline\n",
    "import warnings\n",
    "warnings.filterwarnings('ignore')\n",
    "\n",
    "nlp = spacy.load(\"en_core_web_md\")"
   ]
  },
  {
   "cell_type": "code",
   "execution_count": 53,
   "metadata": {},
   "outputs": [],
   "source": [
    "result = arxiv.query(\"cs\",max_results=3000)\n",
    "\n",
    "cs = pd.DataFrame(result)"
   ]
  },
  {
   "cell_type": "code",
   "execution_count": 54,
   "metadata": {},
   "outputs": [],
   "source": [
    "result = arxiv.query(\"math\",max_results=3000)\n",
    "\n",
    "math = pd.DataFrame(result)"
   ]
  },
  {
   "cell_type": "code",
   "execution_count": 55,
   "metadata": {},
   "outputs": [],
   "source": [
    "result = arxiv.query(\"physics\",max_results=3000)\n",
    "\n",
    "physics = pd.DataFrame(result)"
   ]
  },
  {
   "cell_type": "code",
   "execution_count": 56,
   "metadata": {},
   "outputs": [],
   "source": [
    "df = pd.concat([cs, math, physics])"
   ]
  },
  {
   "cell_type": "code",
   "execution_count": 57,
   "metadata": {},
   "outputs": [
    {
     "data": {
      "text/plain": [
       "(9000, 22)"
      ]
     },
     "execution_count": 57,
     "metadata": {},
     "output_type": "execute_result"
    }
   ],
   "source": [
    "df.shape"
   ]
  },
  {
   "cell_type": "code",
   "execution_count": 58,
   "metadata": {},
   "outputs": [
    {
     "data": {
      "text/plain": [
       "Index(['affiliation', 'arxiv_comment', 'arxiv_primary_category', 'arxiv_url',\n",
       "       'author', 'author_detail', 'authors', 'doi', 'guidislink', 'id',\n",
       "       'journal_reference', 'links', 'pdf_url', 'published',\n",
       "       'published_parsed', 'summary', 'summary_detail', 'tags', 'title',\n",
       "       'title_detail', 'updated', 'updated_parsed'],\n",
       "      dtype='object')"
      ]
     },
     "execution_count": 58,
     "metadata": {},
     "output_type": "execute_result"
    }
   ],
   "source": [
    "df.columns"
   ]
  },
  {
   "cell_type": "code",
   "execution_count": 59,
   "metadata": {},
   "outputs": [],
   "source": [
    "df['text'] = df['summary'] + \" \" + df['title']\n",
    "df = df.drop(columns=['affiliation','arxiv_comment','arxiv_url',\n",
    "                     'author_detail','doi','guidislink','id',\n",
    "                     'pdf_url','links','published','summary_detail',\n",
    "                     'title_detail','updated','updated_parsed',\n",
    "                     'journal_reference','tags','author','authors',\n",
    "                     'published_parsed','summary','title'])"
   ]
  },
  {
   "cell_type": "code",
   "execution_count": 60,
   "metadata": {},
   "outputs": [],
   "source": [
    "df['length'] = df['text'].apply(len)"
   ]
  },
  {
   "cell_type": "code",
   "execution_count": 61,
   "metadata": {},
   "outputs": [
    {
     "data": {
      "text/html": [
       "<div>\n",
       "<style scoped>\n",
       "    .dataframe tbody tr th:only-of-type {\n",
       "        vertical-align: middle;\n",
       "    }\n",
       "\n",
       "    .dataframe tbody tr th {\n",
       "        vertical-align: top;\n",
       "    }\n",
       "\n",
       "    .dataframe thead th {\n",
       "        text-align: right;\n",
       "    }\n",
       "</style>\n",
       "<table border=\"1\" class=\"dataframe\">\n",
       "  <thead>\n",
       "    <tr style=\"text-align: right;\">\n",
       "      <th></th>\n",
       "      <th>arxiv_primary_category</th>\n",
       "      <th>text</th>\n",
       "      <th>length</th>\n",
       "    </tr>\n",
       "  </thead>\n",
       "  <tbody>\n",
       "    <tr>\n",
       "      <th>0</th>\n",
       "      <td>{'term': 'astro-ph', 'scheme': 'http://arxiv.o...</td>\n",
       "      <td>Aims. Our goals are to compare the CS, N2H+ an...</td>\n",
       "      <td>1723</td>\n",
       "    </tr>\n",
       "    <tr>\n",
       "      <th>1</th>\n",
       "      <td>{'term': 'astro-ph', 'scheme': 'http://arxiv.o...</td>\n",
       "      <td>Using data from IRAM's Plateau de Bure Interfe...</td>\n",
       "      <td>397</td>\n",
       "    </tr>\n",
       "    <tr>\n",
       "      <th>2</th>\n",
       "      <td>{'term': 'cs.IT', 'scheme': 'http://arxiv.org/...</td>\n",
       "      <td>We consider the problem of recursively reconst...</td>\n",
       "      <td>587</td>\n",
       "    </tr>\n",
       "    <tr>\n",
       "      <th>3</th>\n",
       "      <td>{'term': 'cs.IT', 'scheme': 'http://arxiv.org/...</td>\n",
       "      <td>Compressed sensing (CS) is an important theory...</td>\n",
       "      <td>1637</td>\n",
       "    </tr>\n",
       "    <tr>\n",
       "      <th>4</th>\n",
       "      <td>{'term': 'astro-ph.GA', 'scheme': 'http://arxi...</td>\n",
       "      <td>We present a theoretical study of CS line prof...</td>\n",
       "      <td>787</td>\n",
       "    </tr>\n",
       "  </tbody>\n",
       "</table>\n",
       "</div>"
      ],
      "text/plain": [
       "                              arxiv_primary_category  \\\n",
       "0  {'term': 'astro-ph', 'scheme': 'http://arxiv.o...   \n",
       "1  {'term': 'astro-ph', 'scheme': 'http://arxiv.o...   \n",
       "2  {'term': 'cs.IT', 'scheme': 'http://arxiv.org/...   \n",
       "3  {'term': 'cs.IT', 'scheme': 'http://arxiv.org/...   \n",
       "4  {'term': 'astro-ph.GA', 'scheme': 'http://arxi...   \n",
       "\n",
       "                                                text  length  \n",
       "0  Aims. Our goals are to compare the CS, N2H+ an...    1723  \n",
       "1  Using data from IRAM's Plateau de Bure Interfe...     397  \n",
       "2  We consider the problem of recursively reconst...     587  \n",
       "3  Compressed sensing (CS) is an important theory...    1637  \n",
       "4  We present a theoretical study of CS line prof...     787  "
      ]
     },
     "execution_count": 61,
     "metadata": {},
     "output_type": "execute_result"
    }
   ],
   "source": [
    "df.head()"
   ]
  },
  {
   "cell_type": "code",
   "execution_count": 62,
   "metadata": {},
   "outputs": [],
   "source": [
    "df['arxiv_primary_category'] = df['arxiv_primary_category'].astype(str).str.replace('{\\'term\\': \\'','').str.replace(r'\\.(.*)','').str.replace(r'\\',(.*)','')"
   ]
  },
  {
   "cell_type": "code",
   "execution_count": 63,
   "metadata": {},
   "outputs": [
    {
     "data": {
      "text/plain": [
       "array(['astro-ph', 'cs', 'quant-ph', 'cond-mat', 'math', 'physics',\n",
       "       'nucl-ex', 'eess', 'nucl-th', 'hep-th', 'hep-ph', 'math-ph',\n",
       "       'gr-qc', 'stat', 'nlin', 'q-bio', 'q-alg', 'q-fin', 'hep-lat',\n",
       "       'chao-dyn', 'funct-an', 'hep-ex', 'econ', 'cmp-lg', 'solv-int',\n",
       "       'adap-org', 'alg-geom', 'dg-ga', 'atom-ph', 'acc-phys', 'chem-ph',\n",
       "       'plasm-ph'], dtype=object)"
      ]
     },
     "execution_count": 63,
     "metadata": {},
     "output_type": "execute_result"
    }
   ],
   "source": [
    "df['arxiv_primary_category'].unique()"
   ]
  },
  {
   "cell_type": "code",
   "execution_count": 64,
   "metadata": {},
   "outputs": [
    {
     "data": {
      "text/plain": [
       "math        2610\n",
       "physics     1092\n",
       "math-ph      762\n",
       "hep-ph       747\n",
       "cs           732\n",
       "hep-th       612\n",
       "astro-ph     579\n",
       "cond-mat     527\n",
       "quant-ph     500\n",
       "hep-ex       245\n",
       "gr-qc        152\n",
       "hep-lat      105\n",
       "nucl-th       71\n",
       "nlin          60\n",
       "stat          38\n",
       "eess          36\n",
       "nucl-ex       29\n",
       "q-bio         22\n",
       "cmp-lg        16\n",
       "q-alg         16\n",
       "solv-int      11\n",
       "dg-ga         10\n",
       "funct-an       8\n",
       "alg-geom       6\n",
       "chao-dyn       3\n",
       "chem-ph        3\n",
       "q-fin          2\n",
       "econ           2\n",
       "atom-ph        1\n",
       "adap-org       1\n",
       "plasm-ph       1\n",
       "acc-phys       1\n",
       "Name: arxiv_primary_category, dtype: int64"
      ]
     },
     "execution_count": 64,
     "metadata": {},
     "output_type": "execute_result"
    }
   ],
   "source": [
    "df['arxiv_primary_category'].value_counts()"
   ]
  },
  {
   "cell_type": "code",
   "execution_count": 67,
   "metadata": {},
   "outputs": [],
   "source": [
    "tokens = []\n",
    "lemma = []\n",
    "pos = []\n",
    "\n",
    "for doc in nlp.pipe(df['text'].astype('unicode').values, batch_size=50,\n",
    "                        n_threads=3):\n",
    "    if doc.is_parsed:\n",
    "        tokens.append([n.text for n in doc])\n",
    "        lemma.append([n.lemma_ for n in doc])\n",
    "        pos.append([n.pos_ for n in doc])\n",
    "    else:\n",
    "        tokens.append(None)\n",
    "        lemma.append(None)\n",
    "        pos.append(None)\n",
    "\n",
    "df['tokens'] = tokens\n",
    "df['lemma'] = lemma\n",
    "df['pos'] = pos"
   ]
  },
  {
   "cell_type": "code",
   "execution_count": 68,
   "metadata": {},
   "outputs": [],
   "source": [
    "df['text_parsed'] = df['text'].apply(lambda x: nlp(x).vector)"
   ]
  },
  {
   "cell_type": "code",
   "execution_count": 69,
   "metadata": {},
   "outputs": [
    {
     "data": {
      "text/plain": [
       "arxiv_primary_category    0\n",
       "text                      0\n",
       "length                    0\n",
       "tokens                    0\n",
       "lemma                     0\n",
       "pos                       0\n",
       "text_parsed               0\n",
       "dtype: int64"
      ]
     },
     "execution_count": 69,
     "metadata": {},
     "output_type": "execute_result"
    }
   ],
   "source": [
    "df.isnull().sum()"
   ]
  },
  {
   "cell_type": "code",
   "execution_count": 77,
   "metadata": {},
   "outputs": [],
   "source": [
    "from sklearn.feature_extraction.text import TfidfVectorizer, CountVectorizer\n",
    "from sklearn.decomposition import NMF, LatentDirichletAllocation, TruncatedSVD"
   ]
  },
  {
   "cell_type": "code",
   "execution_count": 78,
   "metadata": {},
   "outputs": [
    {
     "data": {
      "text/plain": [
       "(9000, 27740)"
      ]
     },
     "execution_count": 78,
     "metadata": {},
     "output_type": "execute_result"
    }
   ],
   "source": [
    "vectorizer = CountVectorizer(stop_words='english')\n",
    "vectors = vectorizer.fit_transform(df['text']).todense()\n",
    "vectors.shape"
   ]
  },
  {
   "cell_type": "code",
   "execution_count": 79,
   "metadata": {},
   "outputs": [],
   "source": [
    "vocab = np.array(vectorizer.get_feature_names())"
   ]
  },
  {
   "cell_type": "code",
   "execution_count": 80,
   "metadata": {},
   "outputs": [
    {
     "data": {
      "text/plain": [
       "(9000, 27740)"
      ]
     },
     "execution_count": 80,
     "metadata": {},
     "output_type": "execute_result"
    }
   ],
   "source": [
    "tfidf_vectorizer = TfidfVectorizer(stop_words='english', max_df=0.5, min_df=1)\n",
    "tfidf = tfidf_vectorizer.fit_transform(df['text'])\n",
    "tfidf.shape"
   ]
  },
  {
   "cell_type": "code",
   "execution_count": 81,
   "metadata": {},
   "outputs": [],
   "source": [
    "num_top_words=8\n",
    "\n",
    "def show_topics(a):\n",
    "    top_words = lambda t: [vocab[i] for i in np.argsort(t)[:-num_top_words-1:-1]]\n",
    "    topic_words = ([top_words(t) for t in a])\n",
    "    return [' '.join(t) for t in topic_words]"
   ]
  },
  {
   "cell_type": "markdown",
   "metadata": {},
   "source": [
    "### Latent Semantic Analysis ###"
   ]
  },
  {
   "cell_type": "code",
   "execution_count": 82,
   "metadata": {},
   "outputs": [],
   "source": [
    "lsa = TruncatedSVD(n_components=3)\n",
    "W1 = lsa.fit_transform(tfidf)\n",
    "H1 = lsa.components_"
   ]
  },
  {
   "cell_type": "code",
   "execution_count": 83,
   "metadata": {},
   "outputs": [
    {
     "data": {
      "text/plain": [
       "['physics quantum cs theory new model physical field',\n",
       " 'physics lhc standard new review collider particle neutrino',\n",
       " 'quantum theory physical mechanics group algebras field groups']"
      ]
     },
     "execution_count": 83,
     "metadata": {},
     "output_type": "execute_result"
    }
   ],
   "source": [
    "show_topics(H1)"
   ]
  },
  {
   "cell_type": "code",
   "execution_count": 85,
   "metadata": {},
   "outputs": [],
   "source": [
    "lsa = TruncatedSVD(n_components=5)\n",
    "W1 = lsa.fit_transform(tfidf)\n",
    "H1 = lsa.components_"
   ]
  },
  {
   "cell_type": "code",
   "execution_count": 86,
   "metadata": {},
   "outputs": [
    {
     "data": {
      "text/plain": [
       "['physics quantum cs theory new model physical field',\n",
       " 'physics lhc standard new review collider particle neutrino',\n",
       " 'quantum theory physical mechanics group algebras space groups',\n",
       " 'sensing sparse signal reconstruction compressive compressed algorithm recovery',\n",
       " 'quantum physical mechanics sensing theory signal reconstruction sparse']"
      ]
     },
     "execution_count": 86,
     "metadata": {},
     "output_type": "execute_result"
    }
   ],
   "source": [
    "show_topics(H1)"
   ]
  },
  {
   "cell_type": "code",
   "execution_count": 87,
   "metadata": {},
   "outputs": [],
   "source": [
    "lsa = TruncatedSVD(n_components=10)\n",
    "W1 = lsa.fit_transform(tfidf)\n",
    "H1 = lsa.components_"
   ]
  },
  {
   "cell_type": "code",
   "execution_count": 88,
   "metadata": {},
   "outputs": [
    {
     "data": {
      "text/plain": [
       "['physics quantum cs theory new model physical field',\n",
       " 'physics lhc standard new review collider particle neutrino',\n",
       " 'quantum theory physical mechanics group algebras field groups',\n",
       " 'sensing sparse signal reconstruction compressive compressed algorithm recovery',\n",
       " 'quantum physical mechanics sensing theory signal reconstruction sparse',\n",
       " 'gauge theory field chern simons theories lattice gravity',\n",
       " 'physical molecular equations gas star emission theory theories',\n",
       " 'theory group groups gauge chern field simons cs',\n",
       " 'physical quark lattice qcd flavor heavy algebras groups',\n",
       " 'model standard new quantum decays cp violation quark']"
      ]
     },
     "execution_count": 88,
     "metadata": {},
     "output_type": "execute_result"
    }
   ],
   "source": [
    "show_topics(H1)"
   ]
  },
  {
   "cell_type": "markdown",
   "metadata": {},
   "source": [
    "### Latent Dirichlet Allocation ###"
   ]
  },
  {
   "cell_type": "code",
   "execution_count": 89,
   "metadata": {},
   "outputs": [],
   "source": [
    "lda = LatentDirichletAllocation(n_components=3, random_state=0)\n",
    "\n",
    "W1 = lda.fit_transform(tfidf)\n",
    "H1 = lda.components_"
   ]
  },
  {
   "cell_type": "code",
   "execution_count": 90,
   "metadata": {},
   "outputs": [
    {
     "data": {
      "text/plain": [
       "['physics new standard review quark model particle qcd',\n",
       " 'quantum theory physical cs space paper group field',\n",
       " 'cs molecular magnetic atoms gas _2 atomic state']"
      ]
     },
     "execution_count": 90,
     "metadata": {},
     "output_type": "execute_result"
    }
   ],
   "source": [
    "show_topics(H1)"
   ]
  },
  {
   "cell_type": "code",
   "execution_count": 92,
   "metadata": {},
   "outputs": [],
   "source": [
    "lda = LatentDirichletAllocation(n_components=5, random_state=0)\n",
    "\n",
    "W1 = lda.fit_transform(tfidf)\n",
    "H1 = lda.components_"
   ]
  },
  {
   "cell_type": "code",
   "execution_count": 93,
   "metadata": {},
   "outputs": [
    {
     "data": {
      "text/plain": [
       "['physics new standard model review particle lhc quark',\n",
       " 'cs sensing sparse reconstruction based signal algorithm compressive',\n",
       " 'cs molecular magnetic _2 atoms state gas spin',\n",
       " 'walk withdrawn holm camassa balls park ph berwald',\n",
       " 'quantum theory space group physical equations functions dimensional']"
      ]
     },
     "execution_count": 93,
     "metadata": {},
     "output_type": "execute_result"
    }
   ],
   "source": [
    "show_topics(H1)"
   ]
  },
  {
   "cell_type": "code",
   "execution_count": 94,
   "metadata": {},
   "outputs": [],
   "source": [
    "lda = LatentDirichletAllocation(n_components=10, random_state=0)\n",
    "\n",
    "W1 = lda.fit_transform(tfidf)\n",
    "H1 = lda.components_"
   ]
  },
  {
   "cell_type": "code",
   "execution_count": 95,
   "metadata": {},
   "outputs": [
    {
     "data": {
      "text/plain": [
       "['physics new lhc standard neutrino collider model review',\n",
       " 'group groups prove manifolds spaces surfaces theorem algebras',\n",
       " 'hera spinor zeus h1 lep2 emphasizing h2s ep',\n",
       " 'hodge balls morita bernoulli momenta snowmass symmetrized symposium',\n",
       " 'adic jordan car adelic riesz dyson isomorphisms brs',\n",
       " 'tetraquark lefschetz clic topos dinger tesla camassa holm',\n",
       " 'toda superalgebras majorana hierarchies presentations lefschetz lie yangian',\n",
       " '_4 _2 fe triangular cucl antiferromagnet _3 t_',\n",
       " 'cs quantum physics theory physical field model systems',\n",
       " 'calogero encyclopedia mc dglap ia quarkonium jack elsevier']"
      ]
     },
     "execution_count": 95,
     "metadata": {},
     "output_type": "execute_result"
    }
   ],
   "source": [
    "show_topics(H1)"
   ]
  },
  {
   "cell_type": "markdown",
   "metadata": {},
   "source": [
    "### Non-negative Matrix Factorization ###"
   ]
  },
  {
   "cell_type": "code",
   "execution_count": 96,
   "metadata": {},
   "outputs": [],
   "source": [
    "clf = NMF(n_components=3, random_state=1)\n",
    "\n",
    "W1 = clf.fit_transform(tfidf)\n",
    "H1 = clf.components_"
   ]
  },
  {
   "cell_type": "code",
   "execution_count": 97,
   "metadata": {},
   "outputs": [
    {
     "data": {
      "text/plain": [
       "['cs sensing signal sparse reconstruction based data compressive',\n",
       " 'physics new standard model lhc particle review quark',\n",
       " 'quantum theory physical field space group dimensional gauge']"
      ]
     },
     "execution_count": 97,
     "metadata": {},
     "output_type": "execute_result"
    }
   ],
   "source": [
    "show_topics(H1)"
   ]
  },
  {
   "cell_type": "code",
   "execution_count": 98,
   "metadata": {},
   "outputs": [],
   "source": [
    "clf = NMF(n_components=5, random_state=1)\n",
    "\n",
    "W1 = clf.fit_transform(tfidf)\n",
    "H1 = clf.components_"
   ]
  },
  {
   "cell_type": "code",
   "execution_count": 99,
   "metadata": {},
   "outputs": [
    {
     "data": {
      "text/plain": [
       "['sensing cs signal sparse reconstruction compressive compressed based',\n",
       " 'physics new standard model lhc particle review collider',\n",
       " 'group groups space functions equations algebras dimensional algebra',\n",
       " 'cs molecular spin magnetic gas _2 atoms states',\n",
       " 'quantum physical theory mechanics field systems states classical']"
      ]
     },
     "execution_count": 99,
     "metadata": {},
     "output_type": "execute_result"
    }
   ],
   "source": [
    "show_topics(H1)"
   ]
  },
  {
   "cell_type": "code",
   "execution_count": 100,
   "metadata": {},
   "outputs": [],
   "source": [
    "clf = NMF(n_components=10, random_state=1)\n",
    "\n",
    "W1 = clf.fit_transform(tfidf)\n",
    "H1 = clf.components_"
   ]
  },
  {
   "cell_type": "code",
   "execution_count": 101,
   "metadata": {},
   "outputs": [
    {
     "data": {
      "text/plain": [
       "['sensing cs signal sparse reconstruction compressive compressed based',\n",
       " 'physics particle lhc neutrino collider future energy students',\n",
       " 'group groups algebras algebra space finite functions lie',\n",
       " 'cs molecular gas _2 atoms magnetic line molecules',\n",
       " 'quantum mechanics theory classical states systems relativistic state',\n",
       " 'theory field gauge chern simons theories gravity cs',\n",
       " 'physical systems mathematical space time information laws models',\n",
       " 'equations equation solutions differential nonlinear solution wave systems',\n",
       " 'quark lattice qcd flavor heavy recent results spin',\n",
       " 'model new standard decays cp violation physics electroweak']"
      ]
     },
     "execution_count": 101,
     "metadata": {},
     "output_type": "execute_result"
    }
   ],
   "source": [
    "show_topics(H1)"
   ]
  }
 ],
 "metadata": {
  "kernelspec": {
   "display_name": "Python 3",
   "language": "python",
   "name": "python3"
  },
  "language_info": {
   "codemirror_mode": {
    "name": "ipython",
    "version": 3
   },
   "file_extension": ".py",
   "mimetype": "text/x-python",
   "name": "python",
   "nbconvert_exporter": "python",
   "pygments_lexer": "ipython3",
   "version": "3.7.1"
  }
 },
 "nbformat": 4,
 "nbformat_minor": 2
}
